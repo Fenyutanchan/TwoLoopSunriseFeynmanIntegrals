{
 "cells": [
  {
   "cell_type": "code",
   "execution_count": 13,
   "metadata": {},
   "outputs": [],
   "source": [
    "# 1.out是form输出文件\n",
    "with open('1.out','r') as f1:\n",
    "    ff=f1.read()\n",
    "f1.close()\n",
    "\n",
    "ff=ff.replace('\\n', '').replace('\\r', '').replace(\" \",\"\").replace(\";\",\"\")\n",
    "# 将主积分换成c0,c1,..同时在mma中也手动将对应主积分进行替换然后进行验证\n",
    "# 或者直接将c0,c1,..换成mma中主积分的输入形式？这样应该可以用程序直接验证\n",
    "# 如果使用这个脚本进行替换，为了能匹配字符串需要将输入积分写为如下形式\n",
    "# F(a1,a2,a3,m1,m2,m3), F(a1,a2,a3,m1,m2,0), F(a1,a2,a3,0,m2,0), F(a1,a2,a3,m1,m2,m1+m2), F(a1,a2,a3,0,m2,m2)\n",
    "ff=ff.replace(\"F[1,1,1,m1,m2,m3]\",\"c0\").replace(\"F[1,1,1,m1,m2,0]\",\"c0\").replace(\"F[1,1,1,0,m2,0]\",\"c0\")\n",
    "ff=ff.replace(\"F[1,m1]*F[1,m2]\",\"c1\").replace(\"F[1,m1]*F[1,m3]\",\"c2\").replace(\"F[1,m2]*F[1,m3]\",\"c3\")\n",
    "ff=ff.replace(\"F[1,m1]*F[1,m2+m1]\",\"c2\").replace(\"F[1,m2]*F[1,m2+m1]\",\"c3\").replace(\"F[1,m2]^2\",\"c1\")\n",
    "\n",
    "with open('C:\\\\code\\\\Mathematica\\\\IBP\\\\form.out','w') as f2:\n",
    "    f2.write(\"a=Simplify[\")\n",
    "    f2.write(ff)\n",
    "    f2.write(\"]\")\n",
    "f2.close()"
   ]
  }
 ],
 "metadata": {
  "kernelspec": {
   "display_name": "Python 3",
   "language": "python",
   "name": "python3"
  },
  "language_info": {
   "codemirror_mode": {
    "name": "ipython",
    "version": 3
   },
   "file_extension": ".py",
   "mimetype": "text/x-python",
   "name": "python",
   "nbconvert_exporter": "python",
   "pygments_lexer": "ipython3",
   "version": "3.12.4"
  }
 },
 "nbformat": 4,
 "nbformat_minor": 2
}
